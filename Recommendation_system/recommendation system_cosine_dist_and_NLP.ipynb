{
 "cells": [
  {
   "cell_type": "code",
   "execution_count": 1,
   "metadata": {},
   "outputs": [],
   "source": [
    "import pandas as pd\n",
    "import numpy as np"
   ]
  },
  {
   "cell_type": "code",
   "execution_count": 2,
   "metadata": {},
   "outputs": [],
   "source": [
    "path = r'D:\\C++\\PYTHON\\PYTHON_PRACTICE\\recommendation_system\\3405_6663_compressed_movies_metadata.csv\\movies_metadata.csv'"
   ]
  },
  {
   "cell_type": "code",
   "execution_count": 3,
   "metadata": {},
   "outputs": [],
   "source": [
    "metadata = pd.read_csv(path,low_memory=False)"
   ]
  },
  {
   "cell_type": "code",
   "execution_count": 4,
   "metadata": {},
   "outputs": [
    {
     "data": {
      "text/plain": [
       "Index(['adult', 'belongs_to_collection', 'budget', 'genres', 'homepage', 'id',\n",
       "       'imdb_id', 'original_language', 'original_title', 'overview',\n",
       "       'popularity', 'poster_path', 'production_companies',\n",
       "       'production_countries', 'release_date', 'revenue', 'runtime',\n",
       "       'spoken_languages', 'status', 'tagline', 'title', 'video',\n",
       "       'vote_average', 'vote_count'],\n",
       "      dtype='object')"
      ]
     },
     "execution_count": 4,
     "metadata": {},
     "output_type": "execute_result"
    }
   ],
   "source": [
    "metadata.head()\n",
    "metadata.shape\n",
    "metadata.columns"
   ]
  },
  {
   "cell_type": "code",
   "execution_count": 5,
   "metadata": {},
   "outputs": [],
   "source": [
    "# SIMPLE RECOMMENDER\n",
    "# Considering weighte rating to tackle voting baises"
   ]
  },
  {
   "cell_type": "code",
   "execution_count": 6,
   "metadata": {},
   "outputs": [
    {
     "name": "stdout",
     "output_type": "stream",
     "text": [
      "5.618207215134185\n"
     ]
    }
   ],
   "source": [
    "# calculate the mean of vote average column\n",
    "C = metadata['vote_average'].mean()\n",
    "print(C)"
   ]
  },
  {
   "cell_type": "code",
   "execution_count": 7,
   "metadata": {},
   "outputs": [
    {
     "name": "stdout",
     "output_type": "stream",
     "text": [
      "160.0\n"
     ]
    }
   ],
   "source": [
    "# calculate the minimum number of votes required to be in the chart, m\n",
    "m = metadata['vote_count'].quantile(0.90)\n",
    "print(m)"
   ]
  },
  {
   "cell_type": "code",
   "execution_count": 8,
   "metadata": {},
   "outputs": [
    {
     "data": {
      "text/plain": [
       "(4555, 24)"
      ]
     },
     "execution_count": 8,
     "metadata": {},
     "output_type": "execute_result"
    }
   ],
   "source": [
    "# Filtering the movies with number of votes greater than m \n",
    "q_movies = metadata.copy().loc[metadata['vote_count']>=m]\n",
    "q_movies.shape"
   ]
  },
  {
   "cell_type": "code",
   "execution_count": 9,
   "metadata": {},
   "outputs": [],
   "source": [
    "# Calculated the weighted rating for the qualified movies\n",
    "def weighted_rating(x,m=m,C=C):\n",
    "    v = x['vote_count']\n",
    "    R = x['vote_average']\n",
    "    #caculation of weighted average\n",
    "    weighted_average = (v/(v+m)*R)+(m/(m+v)*C)\n",
    "    return weighted_average"
   ]
  },
  {
   "cell_type": "code",
   "execution_count": 10,
   "metadata": {},
   "outputs": [],
   "source": [
    "# new score for the qualifed movies\n",
    "q_movies['score'] = q_movies.apply(weighted_rating,axis=1)"
   ]
  },
  {
   "cell_type": "code",
   "execution_count": 11,
   "metadata": {},
   "outputs": [],
   "source": [
    "# sorting the data based on the wrighted scores\n",
    "q_movies = q_movies.sort_values('score', ascending=False)"
   ]
  },
  {
   "cell_type": "code",
   "execution_count": 12,
   "metadata": {},
   "outputs": [
    {
     "data": {
      "text/html": [
       "<div>\n",
       "<style scoped>\n",
       "    .dataframe tbody tr th:only-of-type {\n",
       "        vertical-align: middle;\n",
       "    }\n",
       "\n",
       "    .dataframe tbody tr th {\n",
       "        vertical-align: top;\n",
       "    }\n",
       "\n",
       "    .dataframe thead th {\n",
       "        text-align: right;\n",
       "    }\n",
       "</style>\n",
       "<table border=\"1\" class=\"dataframe\">\n",
       "  <thead>\n",
       "    <tr style=\"text-align: right;\">\n",
       "      <th></th>\n",
       "      <th>title</th>\n",
       "      <th>vote_count</th>\n",
       "      <th>vote_average</th>\n",
       "      <th>score</th>\n",
       "    </tr>\n",
       "  </thead>\n",
       "  <tbody>\n",
       "    <tr>\n",
       "      <th>314</th>\n",
       "      <td>The Shawshank Redemption</td>\n",
       "      <td>8358.0</td>\n",
       "      <td>8.5</td>\n",
       "      <td>8.445869</td>\n",
       "    </tr>\n",
       "    <tr>\n",
       "      <th>834</th>\n",
       "      <td>The Godfather</td>\n",
       "      <td>6024.0</td>\n",
       "      <td>8.5</td>\n",
       "      <td>8.425439</td>\n",
       "    </tr>\n",
       "    <tr>\n",
       "      <th>10309</th>\n",
       "      <td>Dilwale Dulhania Le Jayenge</td>\n",
       "      <td>661.0</td>\n",
       "      <td>9.1</td>\n",
       "      <td>8.421453</td>\n",
       "    </tr>\n",
       "    <tr>\n",
       "      <th>12481</th>\n",
       "      <td>The Dark Knight</td>\n",
       "      <td>12269.0</td>\n",
       "      <td>8.3</td>\n",
       "      <td>8.265477</td>\n",
       "    </tr>\n",
       "    <tr>\n",
       "      <th>2843</th>\n",
       "      <td>Fight Club</td>\n",
       "      <td>9678.0</td>\n",
       "      <td>8.3</td>\n",
       "      <td>8.256385</td>\n",
       "    </tr>\n",
       "    <tr>\n",
       "      <th>292</th>\n",
       "      <td>Pulp Fiction</td>\n",
       "      <td>8670.0</td>\n",
       "      <td>8.3</td>\n",
       "      <td>8.251406</td>\n",
       "    </tr>\n",
       "    <tr>\n",
       "      <th>522</th>\n",
       "      <td>Schindler's List</td>\n",
       "      <td>4436.0</td>\n",
       "      <td>8.3</td>\n",
       "      <td>8.206639</td>\n",
       "    </tr>\n",
       "    <tr>\n",
       "      <th>23673</th>\n",
       "      <td>Whiplash</td>\n",
       "      <td>4376.0</td>\n",
       "      <td>8.3</td>\n",
       "      <td>8.205404</td>\n",
       "    </tr>\n",
       "    <tr>\n",
       "      <th>5481</th>\n",
       "      <td>Spirited Away</td>\n",
       "      <td>3968.0</td>\n",
       "      <td>8.3</td>\n",
       "      <td>8.196055</td>\n",
       "    </tr>\n",
       "    <tr>\n",
       "      <th>2211</th>\n",
       "      <td>Life Is Beautiful</td>\n",
       "      <td>3643.0</td>\n",
       "      <td>8.3</td>\n",
       "      <td>8.187171</td>\n",
       "    </tr>\n",
       "  </tbody>\n",
       "</table>\n",
       "</div>"
      ],
      "text/plain": [
       "                             title  vote_count  vote_average     score\n",
       "314       The Shawshank Redemption      8358.0           8.5  8.445869\n",
       "834                  The Godfather      6024.0           8.5  8.425439\n",
       "10309  Dilwale Dulhania Le Jayenge       661.0           9.1  8.421453\n",
       "12481              The Dark Knight     12269.0           8.3  8.265477\n",
       "2843                    Fight Club      9678.0           8.3  8.256385\n",
       "292                   Pulp Fiction      8670.0           8.3  8.251406\n",
       "522               Schindler's List      4436.0           8.3  8.206639\n",
       "23673                     Whiplash      4376.0           8.3  8.205404\n",
       "5481                 Spirited Away      3968.0           8.3  8.196055\n",
       "2211             Life Is Beautiful      3643.0           8.3  8.187171"
      ]
     },
     "execution_count": 12,
     "metadata": {},
     "output_type": "execute_result"
    }
   ],
   "source": [
    "# printinng the top 10 movies\n",
    "q_movies[['title', 'vote_count', 'vote_average','score']].head(10)"
   ]
  },
  {
   "cell_type": "code",
   "execution_count": 13,
   "metadata": {},
   "outputs": [
    {
     "data": {
      "text/plain": [
       "' This recommender system recommend movie that are similar to \\na aprticular movie. To achieve this, cosine simlarity is computed\\nbased on the plot description and recommend movies based on that\\nsimilarity score threshold.'"
      ]
     },
     "execution_count": 13,
     "metadata": {},
     "output_type": "execute_result"
    }
   ],
   "source": [
    "# CONTENT BASED RECOMMENDER\n",
    "\"\"\" This recommender system recommend movie that are similar to \n",
    "a aprticular movie. To achieve this, cosine simlarity is computed\n",
    "based on the plot description and recommend movies based on that\n",
    "similarity score threshold.\"\"\""
   ]
  },
  {
   "cell_type": "code",
   "execution_count": 14,
   "metadata": {},
   "outputs": [
    {
     "data": {
      "text/plain": [
       "0    Led by Woody, Andy's toys live happily in his ...\n",
       "1    When siblings Judy and Peter discover an encha...\n",
       "2    A family wedding reignites the ancient feud be...\n",
       "3    Cheated on, mistreated and stepped on, the wom...\n",
       "4    Just when George Banks has recovered from his ...\n",
       "Name: overview, dtype: object"
      ]
     },
     "execution_count": 14,
     "metadata": {},
     "output_type": "execute_result"
    }
   ],
   "source": [
    "metadata['overview'].head()"
   ]
  },
  {
   "cell_type": "code",
   "execution_count": 15,
   "metadata": {},
   "outputs": [],
   "source": [
    "# We have to find the similarity between the movie description\n",
    "# using natural language processing"
   ]
  },
  {
   "cell_type": "code",
   "execution_count": 16,
   "metadata": {},
   "outputs": [
    {
     "data": {
      "text/plain": [
       "'the TF-IDF score is the frequency of a word occurring in a \\ndocument, down-weighted by the number of documents in which it\\noccurs. This is done to reduce the importance of words that \\nfrequently occur in plot overviews and, therefore,\\ntheir significance in computing the final similarity score'"
      ]
     },
     "execution_count": 16,
     "metadata": {},
     "output_type": "execute_result"
    }
   ],
   "source": [
    "'''the TF-IDF score is the frequency of a word occurring in a \n",
    "document, down-weighted by the number of documents in which it\n",
    "occurs. This is done to reduce the importance of words that \n",
    "frequently occur in plot overviews and, therefore,\n",
    "their significance in computing the final similarity score'''"
   ]
  },
  {
   "cell_type": "code",
   "execution_count": 17,
   "metadata": {},
   "outputs": [
    {
     "data": {
      "text/plain": [
       "(45466, 75827)"
      ]
     },
     "execution_count": 17,
     "metadata": {},
     "output_type": "execute_result"
    }
   ],
   "source": [
    "from sklearn.feature_extraction.text import TfidfVectorizer\n",
    "\n",
    "#  for removing the stop words from the documents\n",
    "tfidf = TfidfVectorizer(stop_words='english')\n",
    "\n",
    "# Replace NA with an empty string\n",
    "metadata['overview'] = metadata['overview'].fillna('')\n",
    "\n",
    "# Constructing the required TF_IDF by fitting and \n",
    "# transforming the data\n",
    "tfidf_matrix = tfidf.fit_transform(metadata['overview'])\n",
    "\n",
    "tfidf_matrix.shape"
   ]
  },
  {
   "cell_type": "code",
   "execution_count": 18,
   "metadata": {},
   "outputs": [
    {
     "data": {
      "text/plain": [
       "\"There are 75827 different vocabularies or words in the data\\n of 45466 movies.\\n \\n Somilarity scores can be calculated using metrics like manhattan\\n , euclidean, Pearson, cosine similarity\\n \\n Since we have used the TF-IDF vectorizer, calculating the \\n dot product between each vector will directly give you the \\n cosine similarity score. Therefore, you will use sklearn's \\n linear_kernel() \\n instead of cosine_similarities() since it is faster\""
      ]
     },
     "execution_count": 18,
     "metadata": {},
     "output_type": "execute_result"
    }
   ],
   "source": [
    "'''There are 75827 different vocabularies or words in the data\n",
    " of 45466 movies.\n",
    " \n",
    " Somilarity scores can be calculated using metrics like manhattan\n",
    " , euclidean, Pearson, cosine similarity\n",
    " \n",
    " Since we have used the TF-IDF vectorizer, calculating the \n",
    " dot product between each vector will directly give you the \n",
    " cosine similarity score. Therefore, you will use sklearn's \n",
    " linear_kernel() \n",
    " instead of cosine_similarities() since it is faster'''"
   ]
  },
  {
   "cell_type": "code",
   "execution_count": 19,
   "metadata": {},
   "outputs": [
    {
     "name": "stdout",
     "output_type": "stream",
     "text": [
      "alll doone\n"
     ]
    }
   ],
   "source": [
    "from sklearn.metrics.pairwise import linear_kernel\n",
    "\n",
    "# Compute the cosine similarity matrix\n",
    "#cosine_sim = linear_kernel(tfidf_matrix,tfidf_matrix)\n",
    "# too much data, not doing this step, but continuing the other\n",
    "print('alll doone')"
   ]
  },
  {
   "cell_type": "code",
   "execution_count": 20,
   "metadata": {},
   "outputs": [
    {
     "data": {
      "text/plain": [
       "(45466, 75827)"
      ]
     },
     "execution_count": 20,
     "metadata": {},
     "output_type": "execute_result"
    }
   ],
   "source": [
    "tfidf_matrix.shape"
   ]
  },
  {
   "cell_type": "code",
   "execution_count": 21,
   "metadata": {},
   "outputs": [],
   "source": [
    "a = tfidf_matrix[0:150,0:150]"
   ]
  },
  {
   "cell_type": "code",
   "execution_count": 22,
   "metadata": {},
   "outputs": [
    {
     "data": {
      "text/plain": [
       "(150, 150)"
      ]
     },
     "execution_count": 22,
     "metadata": {},
     "output_type": "execute_result"
    }
   ],
   "source": [
    "a.shape"
   ]
  },
  {
   "cell_type": "code",
   "execution_count": 28,
   "metadata": {},
   "outputs": [],
   "source": [
    "# this function takes a movie title and outputs the 10 most similar movie\n",
    "\n",
    "# Reverse map of indices and movie title\n",
    "indices = pd.Series(metadata.index, index=metadata['title']).drop_duplicates\n"
   ]
  },
  {
   "cell_type": "code",
   "execution_count": 31,
   "metadata": {},
   "outputs": [
    {
     "data": {
      "text/plain": [
       "'Steps for recommendation function \\n1. Given the title, get the index of the movie\\n2. Get the cosine similarity scores of that movie with the other movies\\n3. Create a list with the index and the similarity score\\n4. Sort the list.\\n5. Get the most similar movies'"
      ]
     },
     "execution_count": 31,
     "metadata": {},
     "output_type": "execute_result"
    }
   ],
   "source": [
    "'''Steps for recommendation function \n",
    "1. Given the title, get the index of the movie\n",
    "2. Get the cosine similarity scores of that movie with the other movies\n",
    "3. Create a list with the index and the similarity score\n",
    "4. Sort the list.\n",
    "5. Get the most similar movies'''"
   ]
  },
  {
   "cell_type": "code",
   "execution_count": null,
   "metadata": {},
   "outputs": [],
   "source": [
    "# Recommnedation function \n",
    "def get_recommendation(title, cosine_similarity_matrix = cosine_sim):\n",
    "    \n",
    "    # get the index of the title\n",
    "    idx = indices[title]\n",
    "    \n",
    "    #Get the pairwise similarity score of all the movies with that movie\n",
    "    sim_score = list(enumerate(cosine_sim[idx]))\n",
    "    \n",
    "    # Sort the movies based on the similarity score\n",
    "    sim_score = sorted(sim_score, key=lambda x:x[1], reverse=True)\n",
    "    \n",
    "    # Get the scores of the 10 most similar movies\n",
    "    movie_indices = [i[0] for i in sim_score]\n",
    "    \n",
    "    # Return the top 10 most similar movies\n",
    "    return metadata['title'].iloc[movie_indices]"
   ]
  },
  {
   "cell_type": "code",
   "execution_count": 32,
   "metadata": {},
   "outputs": [],
   "source": [
    "# Credits, Genre ,Keywords based recommender\n",
    "# Building a recommendation system based on top 3 actos, director,\n",
    "# related genre and movie plot keywords\n",
    "# Loading the cast, crew data in the current dataset"
   ]
  },
  {
   "cell_type": "code",
   "execution_count": 37,
   "metadata": {},
   "outputs": [],
   "source": [
    "path = r'D:\\C++\\PYTHON\\PYTHON_PRACTICE\\recommendation_system\\3405_6663_compressed_movies_metadata.csv'\n",
    "import os\n",
    "file = os.path.join(path, 'credits.csv')\n",
    "credits = pd.read_csv(file)\n",
    "file2 = os.path.join(path, 'keywords.csv')\n",
    "keywords = pd.read_csv(file2)"
   ]
  },
  {
   "cell_type": "code",
   "execution_count": 42,
   "metadata": {},
   "outputs": [
    {
     "name": "stdout",
     "output_type": "stream",
     "text": [
      "<class 'pandas.core.frame.DataFrame'>\n",
      "RangeIndex: 46419 entries, 0 to 46418\n",
      "Data columns (total 2 columns):\n",
      " #   Column    Non-Null Count  Dtype \n",
      "---  ------    --------------  ----- \n",
      " 0   id        46419 non-null  int64 \n",
      " 1   keywords  46419 non-null  object\n",
      "dtypes: int64(1), object(1)\n",
      "memory usage: 725.4+ KB\n",
      "<class 'pandas.core.frame.DataFrame'>\n",
      "RangeIndex: 45476 entries, 0 to 45475\n",
      "Data columns (total 3 columns):\n",
      " #   Column  Non-Null Count  Dtype \n",
      "---  ------  --------------  ----- \n",
      " 0   cast    45476 non-null  object\n",
      " 1   crew    45476 non-null  object\n",
      " 2   id      45476 non-null  int64 \n",
      "dtypes: int64(1), object(2)\n",
      "memory usage: 1.0+ MB\n"
     ]
    }
   ],
   "source": [
    "keywords.info()\n",
    "credits.info()"
   ]
  },
  {
   "cell_type": "code",
   "execution_count": 40,
   "metadata": {},
   "outputs": [],
   "source": [
    "# Remove rows with bad IDs.\n",
    "metadata = metadata.drop([19730, 29503, 35587])"
   ]
  },
  {
   "cell_type": "code",
   "execution_count": 44,
   "metadata": {},
   "outputs": [],
   "source": [
    "# Convert ids to integars\n",
    "keywords['id'] = keywords['id'].astype('int')\n",
    "credits['id'] = credits['id'].astype('int')\n",
    "metadata['id'] = metadata['id'].astype('int')"
   ]
  },
  {
   "cell_type": "code",
   "execution_count": 45,
   "metadata": {},
   "outputs": [],
   "source": [
    "# Merge credits and keywords into metadata dataframe\n",
    "metadata = metadata.merge(credits,on='id')\n",
    "metadata = metadata.merge(keywords, on='id')"
   ]
  },
  {
   "cell_type": "code",
   "execution_count": 47,
   "metadata": {},
   "outputs": [
    {
     "data": {
      "text/plain": [
       "Index(['adult', 'belongs_to_collection', 'budget', 'genres', 'homepage', 'id',\n",
       "       'imdb_id', 'original_language', 'original_title', 'overview',\n",
       "       'popularity', 'poster_path', 'production_companies',\n",
       "       'production_countries', 'release_date', 'revenue', 'runtime',\n",
       "       'spoken_languages', 'status', 'tagline', 'title', 'video',\n",
       "       'vote_average', 'vote_count', 'cast', 'crew', 'keywords'],\n",
       "      dtype='object')"
      ]
     },
     "execution_count": 47,
     "metadata": {},
     "output_type": "execute_result"
    }
   ],
   "source": [
    "metadata.columns"
   ]
  },
  {
   "cell_type": "code",
   "execution_count": 53,
   "metadata": {},
   "outputs": [
    {
     "data": {
      "text/plain": [
       "\"[{'cast_id': 1, 'character': 'Alan Parrish', 'credit_id': '52fe44bfc3a36847f80a7c73', 'gender': 2, 'id': 2157, 'name': 'Robin Williams', 'order': 0, 'profile_path': '/sojtJyIV3lkUeThD7A2oHNm8183.jpg'}, {'cast_id': 8, 'character': 'Samuel Alan Parrish / Van Pelt', 'credit_id': '52fe44bfc3a36847f80a7c99', 'gender': 2, 'id': 8537, 'name': 'Jonathan Hyde', 'order': 1, 'profile_path': '/7il5D76vx6QVRVlpVvBPEC40MBi.jpg'}, {'cast_id': 2, 'character': 'Judy Sheperd', 'credit_id': '52fe44bfc3a36847f80a7c77', 'gender': 1, 'id': 205, 'name': 'Kirsten Dunst', 'order': 2, 'profile_path': '/wBXvh6PJd0IUVNpvatPC1kzuHtm.jpg'}, {'cast_id': 24, 'character': 'Peter Shepherd', 'credit_id': '52fe44c0c3a36847f80a7ce7', 'gender': 0, 'id': 145151, 'name': 'Bradley Pierce', 'order': 3, 'profile_path': '/j6iW0vVA23GQniAPSYI6mi4hiEW.jpg'}, {'cast_id': 10, 'character': 'Sarah Whittle', 'credit_id': '52fe44bfc3a36847f80a7c9d', 'gender': 1, 'id': 5149, 'name': 'Bonnie Hunt', 'order': 4, 'profile_path': '/7spiVQwmr8siw5QCcvvdRG3c7Lf.jpg'}, {'cast_id': 25, 'character': 'Nora Shepherd', 'credit_id': '52fe44c0c3a36847f80a7ceb', 'gender': 1, 'id': 10739, 'name': 'Bebe Neuwirth', 'order': 5, 'profile_path': '/xm58rpMRVDHS0IGttw1pTlqGwkN.jpg'}, {'cast_id': 26, 'character': 'Carl Bentley', 'credit_id': '52fe44c0c3a36847f80a7cef', 'gender': 2, 'id': 58563, 'name': 'David Alan Grier', 'order': 6, 'profile_path': '/5tkt3qRZTco4sz604aTIarQ0m8W.jpg'}, {'cast_id': 11, 'character': 'Carol Anne Parrish', 'credit_id': '52fe44bfc3a36847f80a7ca1', 'gender': 1, 'id': 1276, 'name': 'Patricia Clarkson', 'order': 7, 'profile_path': '/10ZSyaUqzUlKTd60HmeiGhlytZG.jpg'}, {'cast_id': 14, 'character': 'Alan Parrish (young)', 'credit_id': '52fe44bfc3a36847f80a7cad', 'gender': 0, 'id': 46530, 'name': 'Adam Hann-Byrd', 'order': 8, 'profile_path': '/hEoqDqtMO91hYWD5iDrDesnLDlt.jpg'}, {'cast_id': 13, 'character': 'Sarah Whittle (young)', 'credit_id': '52fe44bfc3a36847f80a7ca9', 'gender': 1, 'id': 56523, 'name': 'Laura Bell Bundy', 'order': 9, 'profile_path': '/8tAVDBRoZPjKfCbBDyh4iK9JNEp.jpg'}, {'cast_id': 31, 'character': 'Exterminator', 'credit_id': '52fe44c0c3a36847f80a7cff', 'gender': 2, 'id': 51551, 'name': 'James Handy', 'order': 10, 'profile_path': '/vm0WQmuP8jEGgFTd3VCcJe7zpUi.jpg'}, {'cast_id': 12, 'character': 'Mrs. Thomas the Realtor', 'credit_id': '52fe44bfc3a36847f80a7ca5', 'gender': 1, 'id': 56522, 'name': 'Gillian Barber', 'order': 11, 'profile_path': '/qoqPX15J5jh6Sy0A9JvvRJIuw64.jpg'}, {'cast_id': 28, 'character': 'Benjamin', 'credit_id': '52fe44c0c3a36847f80a7cf3', 'gender': 2, 'id': 1000304, 'name': 'Brandon Obray', 'order': 12, 'profile_path': None}, {'cast_id': 29, 'character': 'Caleb', 'credit_id': '52fe44c0c3a36847f80a7cf7', 'gender': 0, 'id': 188949, 'name': 'Cyrus Thiedeke', 'order': 13, 'profile_path': None}, {'cast_id': 30, 'character': 'Billy Jessup', 'credit_id': '52fe44c0c3a36847f80a7cfb', 'gender': 0, 'id': 1076551, 'name': 'Gary Joseph Thorup', 'order': 14, 'profile_path': None}, {'cast_id': 32, 'character': 'Cop', 'credit_id': '5588053fc3a36838530063f5', 'gender': 0, 'id': 1480246, 'name': 'Leonard Zola', 'order': 15, 'profile_path': None}, {'cast_id': 33, 'character': 'Bum', 'credit_id': '55935687925141645a002097', 'gender': 2, 'id': 25024, 'name': 'Lloyd Berry', 'order': 16, 'profile_path': '/s7SVCOtvcuQ9wRQPZfUdahb5x88.jpg'}, {'cast_id': 34, 'character': 'Jim Shepherd', 'credit_id': '559356d09251415df8002cb7', 'gender': 2, 'id': 27110, 'name': 'Malcolm Stewart', 'order': 17, 'profile_path': '/l2vgzkLR7GRr8ugjZCILA0OiliI.jpg'}, {'cast_id': 35, 'character': 'Martha Shepherd', 'credit_id': '55935730925141645a0020ad', 'gender': 0, 'id': 53715, 'name': 'Annabel Kershaw', 'order': 18, 'profile_path': '/1VqbvAohBwFhETZtDe76JXQcxKm.jpg'}, {'cast_id': 36, 'character': 'Gun Salesman', 'credit_id': '5593576992514167fd000610', 'gender': 2, 'id': 1379424, 'name': 'Darryl Henriques', 'order': 19, 'profile_path': '/7QMHooY9ewNQlE24WKAOdwW0evU.jpg'}, {'cast_id': 37, 'character': 'Paramedic', 'credit_id': '559357ae92514152de002f42', 'gender': 0, 'id': 1235504, 'name': 'Robyn Driscoll', 'order': 20, 'profile_path': None}, {'cast_id': 50, 'character': 'Paramedic', 'credit_id': '5657803b925141018f00a5dc', 'gender': 2, 'id': 25389, 'name': 'Peter Bryant', 'order': 21, 'profile_path': '/fkcx9Tnp25UC5HlI2eW3nGvumsZ.jpg'}, {'cast_id': 39, 'character': 'Girl', 'credit_id': '559358e292514152de002f63', 'gender': 0, 'id': 1483449, 'name': 'Sarah Gilson', 'order': 22, 'profile_path': None}, {'cast_id': 40, 'character': 'Girl', 'credit_id': '5593590d92514152db002df3', 'gender': 0, 'id': 1483450, 'name': 'Florica Vlad', 'order': 23, 'profile_path': None}, {'cast_id': 41, 'character': 'Baker', 'credit_id': '55935946c3a36869d1001b4d', 'gender': 0, 'id': 1483451, 'name': 'June Lion', 'order': 24, 'profile_path': None}, {'cast_id': 42, 'character': 'Pianist', 'credit_id': '5593597692514167fd000644', 'gender': 0, 'id': 1483452, 'name': 'Brenda Lockmuller', 'order': 25, 'profile_path': None}]\""
      ]
     },
     "execution_count": 53,
     "metadata": {},
     "output_type": "execute_result"
    }
   ],
   "source": [
    "metadata.iloc[1,:]['cast']"
   ]
  },
  {
   "cell_type": "code",
   "execution_count": 54,
   "metadata": {},
   "outputs": [],
   "source": [
    "# From the cast, crew and keywords, we need to extract the \n",
    "# most important actors, director and keywords associated with \n",
    "# the movie"
   ]
  },
  {
   "cell_type": "code",
   "execution_count": 55,
   "metadata": {},
   "outputs": [],
   "source": [
    "from ast import literal_eval"
   ]
  },
  {
   "cell_type": "code",
   "execution_count": 56,
   "metadata": {},
   "outputs": [],
   "source": [
    "features = ['cast', 'crew', 'keywords','genres']\n",
    "for feature in features:\n",
    "    metadata[feature] = metadata[feature].apply(literal_eval)"
   ]
  },
  {
   "cell_type": "code",
   "execution_count": 58,
   "metadata": {},
   "outputs": [
    {
     "data": {
      "text/plain": [
       "[{'cast_id': 1,\n",
       "  'character': 'Alan Parrish',\n",
       "  'credit_id': '52fe44bfc3a36847f80a7c73',\n",
       "  'gender': 2,\n",
       "  'id': 2157,\n",
       "  'name': 'Robin Williams',\n",
       "  'order': 0,\n",
       "  'profile_path': '/sojtJyIV3lkUeThD7A2oHNm8183.jpg'},\n",
       " {'cast_id': 8,\n",
       "  'character': 'Samuel Alan Parrish / Van Pelt',\n",
       "  'credit_id': '52fe44bfc3a36847f80a7c99',\n",
       "  'gender': 2,\n",
       "  'id': 8537,\n",
       "  'name': 'Jonathan Hyde',\n",
       "  'order': 1,\n",
       "  'profile_path': '/7il5D76vx6QVRVlpVvBPEC40MBi.jpg'},\n",
       " {'cast_id': 2,\n",
       "  'character': 'Judy Sheperd',\n",
       "  'credit_id': '52fe44bfc3a36847f80a7c77',\n",
       "  'gender': 1,\n",
       "  'id': 205,\n",
       "  'name': 'Kirsten Dunst',\n",
       "  'order': 2,\n",
       "  'profile_path': '/wBXvh6PJd0IUVNpvatPC1kzuHtm.jpg'},\n",
       " {'cast_id': 24,\n",
       "  'character': 'Peter Shepherd',\n",
       "  'credit_id': '52fe44c0c3a36847f80a7ce7',\n",
       "  'gender': 0,\n",
       "  'id': 145151,\n",
       "  'name': 'Bradley Pierce',\n",
       "  'order': 3,\n",
       "  'profile_path': '/j6iW0vVA23GQniAPSYI6mi4hiEW.jpg'},\n",
       " {'cast_id': 10,\n",
       "  'character': 'Sarah Whittle',\n",
       "  'credit_id': '52fe44bfc3a36847f80a7c9d',\n",
       "  'gender': 1,\n",
       "  'id': 5149,\n",
       "  'name': 'Bonnie Hunt',\n",
       "  'order': 4,\n",
       "  'profile_path': '/7spiVQwmr8siw5QCcvvdRG3c7Lf.jpg'},\n",
       " {'cast_id': 25,\n",
       "  'character': 'Nora Shepherd',\n",
       "  'credit_id': '52fe44c0c3a36847f80a7ceb',\n",
       "  'gender': 1,\n",
       "  'id': 10739,\n",
       "  'name': 'Bebe Neuwirth',\n",
       "  'order': 5,\n",
       "  'profile_path': '/xm58rpMRVDHS0IGttw1pTlqGwkN.jpg'},\n",
       " {'cast_id': 26,\n",
       "  'character': 'Carl Bentley',\n",
       "  'credit_id': '52fe44c0c3a36847f80a7cef',\n",
       "  'gender': 2,\n",
       "  'id': 58563,\n",
       "  'name': 'David Alan Grier',\n",
       "  'order': 6,\n",
       "  'profile_path': '/5tkt3qRZTco4sz604aTIarQ0m8W.jpg'},\n",
       " {'cast_id': 11,\n",
       "  'character': 'Carol Anne Parrish',\n",
       "  'credit_id': '52fe44bfc3a36847f80a7ca1',\n",
       "  'gender': 1,\n",
       "  'id': 1276,\n",
       "  'name': 'Patricia Clarkson',\n",
       "  'order': 7,\n",
       "  'profile_path': '/10ZSyaUqzUlKTd60HmeiGhlytZG.jpg'},\n",
       " {'cast_id': 14,\n",
       "  'character': 'Alan Parrish (young)',\n",
       "  'credit_id': '52fe44bfc3a36847f80a7cad',\n",
       "  'gender': 0,\n",
       "  'id': 46530,\n",
       "  'name': 'Adam Hann-Byrd',\n",
       "  'order': 8,\n",
       "  'profile_path': '/hEoqDqtMO91hYWD5iDrDesnLDlt.jpg'},\n",
       " {'cast_id': 13,\n",
       "  'character': 'Sarah Whittle (young)',\n",
       "  'credit_id': '52fe44bfc3a36847f80a7ca9',\n",
       "  'gender': 1,\n",
       "  'id': 56523,\n",
       "  'name': 'Laura Bell Bundy',\n",
       "  'order': 9,\n",
       "  'profile_path': '/8tAVDBRoZPjKfCbBDyh4iK9JNEp.jpg'},\n",
       " {'cast_id': 31,\n",
       "  'character': 'Exterminator',\n",
       "  'credit_id': '52fe44c0c3a36847f80a7cff',\n",
       "  'gender': 2,\n",
       "  'id': 51551,\n",
       "  'name': 'James Handy',\n",
       "  'order': 10,\n",
       "  'profile_path': '/vm0WQmuP8jEGgFTd3VCcJe7zpUi.jpg'},\n",
       " {'cast_id': 12,\n",
       "  'character': 'Mrs. Thomas the Realtor',\n",
       "  'credit_id': '52fe44bfc3a36847f80a7ca5',\n",
       "  'gender': 1,\n",
       "  'id': 56522,\n",
       "  'name': 'Gillian Barber',\n",
       "  'order': 11,\n",
       "  'profile_path': '/qoqPX15J5jh6Sy0A9JvvRJIuw64.jpg'},\n",
       " {'cast_id': 28,\n",
       "  'character': 'Benjamin',\n",
       "  'credit_id': '52fe44c0c3a36847f80a7cf3',\n",
       "  'gender': 2,\n",
       "  'id': 1000304,\n",
       "  'name': 'Brandon Obray',\n",
       "  'order': 12,\n",
       "  'profile_path': None},\n",
       " {'cast_id': 29,\n",
       "  'character': 'Caleb',\n",
       "  'credit_id': '52fe44c0c3a36847f80a7cf7',\n",
       "  'gender': 0,\n",
       "  'id': 188949,\n",
       "  'name': 'Cyrus Thiedeke',\n",
       "  'order': 13,\n",
       "  'profile_path': None},\n",
       " {'cast_id': 30,\n",
       "  'character': 'Billy Jessup',\n",
       "  'credit_id': '52fe44c0c3a36847f80a7cfb',\n",
       "  'gender': 0,\n",
       "  'id': 1076551,\n",
       "  'name': 'Gary Joseph Thorup',\n",
       "  'order': 14,\n",
       "  'profile_path': None},\n",
       " {'cast_id': 32,\n",
       "  'character': 'Cop',\n",
       "  'credit_id': '5588053fc3a36838530063f5',\n",
       "  'gender': 0,\n",
       "  'id': 1480246,\n",
       "  'name': 'Leonard Zola',\n",
       "  'order': 15,\n",
       "  'profile_path': None},\n",
       " {'cast_id': 33,\n",
       "  'character': 'Bum',\n",
       "  'credit_id': '55935687925141645a002097',\n",
       "  'gender': 2,\n",
       "  'id': 25024,\n",
       "  'name': 'Lloyd Berry',\n",
       "  'order': 16,\n",
       "  'profile_path': '/s7SVCOtvcuQ9wRQPZfUdahb5x88.jpg'},\n",
       " {'cast_id': 34,\n",
       "  'character': 'Jim Shepherd',\n",
       "  'credit_id': '559356d09251415df8002cb7',\n",
       "  'gender': 2,\n",
       "  'id': 27110,\n",
       "  'name': 'Malcolm Stewart',\n",
       "  'order': 17,\n",
       "  'profile_path': '/l2vgzkLR7GRr8ugjZCILA0OiliI.jpg'},\n",
       " {'cast_id': 35,\n",
       "  'character': 'Martha Shepherd',\n",
       "  'credit_id': '55935730925141645a0020ad',\n",
       "  'gender': 0,\n",
       "  'id': 53715,\n",
       "  'name': 'Annabel Kershaw',\n",
       "  'order': 18,\n",
       "  'profile_path': '/1VqbvAohBwFhETZtDe76JXQcxKm.jpg'},\n",
       " {'cast_id': 36,\n",
       "  'character': 'Gun Salesman',\n",
       "  'credit_id': '5593576992514167fd000610',\n",
       "  'gender': 2,\n",
       "  'id': 1379424,\n",
       "  'name': 'Darryl Henriques',\n",
       "  'order': 19,\n",
       "  'profile_path': '/7QMHooY9ewNQlE24WKAOdwW0evU.jpg'},\n",
       " {'cast_id': 37,\n",
       "  'character': 'Paramedic',\n",
       "  'credit_id': '559357ae92514152de002f42',\n",
       "  'gender': 0,\n",
       "  'id': 1235504,\n",
       "  'name': 'Robyn Driscoll',\n",
       "  'order': 20,\n",
       "  'profile_path': None},\n",
       " {'cast_id': 50,\n",
       "  'character': 'Paramedic',\n",
       "  'credit_id': '5657803b925141018f00a5dc',\n",
       "  'gender': 2,\n",
       "  'id': 25389,\n",
       "  'name': 'Peter Bryant',\n",
       "  'order': 21,\n",
       "  'profile_path': '/fkcx9Tnp25UC5HlI2eW3nGvumsZ.jpg'},\n",
       " {'cast_id': 39,\n",
       "  'character': 'Girl',\n",
       "  'credit_id': '559358e292514152de002f63',\n",
       "  'gender': 0,\n",
       "  'id': 1483449,\n",
       "  'name': 'Sarah Gilson',\n",
       "  'order': 22,\n",
       "  'profile_path': None},\n",
       " {'cast_id': 40,\n",
       "  'character': 'Girl',\n",
       "  'credit_id': '5593590d92514152db002df3',\n",
       "  'gender': 0,\n",
       "  'id': 1483450,\n",
       "  'name': 'Florica Vlad',\n",
       "  'order': 23,\n",
       "  'profile_path': None},\n",
       " {'cast_id': 41,\n",
       "  'character': 'Baker',\n",
       "  'credit_id': '55935946c3a36869d1001b4d',\n",
       "  'gender': 0,\n",
       "  'id': 1483451,\n",
       "  'name': 'June Lion',\n",
       "  'order': 24,\n",
       "  'profile_path': None},\n",
       " {'cast_id': 42,\n",
       "  'character': 'Pianist',\n",
       "  'credit_id': '5593597692514167fd000644',\n",
       "  'gender': 0,\n",
       "  'id': 1483452,\n",
       "  'name': 'Brenda Lockmuller',\n",
       "  'order': 25,\n",
       "  'profile_path': None}]"
      ]
     },
     "execution_count": 58,
     "metadata": {},
     "output_type": "execute_result"
    }
   ],
   "source": [
    "metadata.iloc[1,:]['cast']"
   ]
  },
  {
   "cell_type": "code",
   "execution_count": 59,
   "metadata": {},
   "outputs": [],
   "source": [
    "# Creating a metadata soup\n",
    "# Which is a string that contains all the metadata that i want to \n",
    "# fees in the vectoriser, namely actors, directors, keywords"
   ]
  },
  {
   "cell_type": "code",
   "execution_count": 72,
   "metadata": {},
   "outputs": [],
   "source": [
    "# Extracting the rewuired fields from the data\n",
    "import numpy as np"
   ]
  },
  {
   "cell_type": "code",
   "execution_count": 76,
   "metadata": {},
   "outputs": [],
   "source": [
    "# Get the director name from the crew feature, \n",
    "# if director is not listed return nan\n",
    "def get_director(x):\n",
    "    for i in x:\n",
    "        if i['job'] == 'Director':\n",
    "            return i['name']\n",
    "    return np.nan"
   ]
  },
  {
   "cell_type": "code",
   "execution_count": 74,
   "metadata": {},
   "outputs": [],
   "source": [
    "def get_list(x):\n",
    "    if isinstance(x,list):\n",
    "        names = [i['name'] for i in x]\n",
    "        if len(names) >3:\n",
    "            names = names[:3]\n",
    "        return names\n",
    "    return []"
   ]
  },
  {
   "cell_type": "code",
   "execution_count": 77,
   "metadata": {},
   "outputs": [],
   "source": [
    "metadata['director'] = metadata['crew'].apply(get_director)"
   ]
  },
  {
   "cell_type": "code",
   "execution_count": 80,
   "metadata": {},
   "outputs": [],
   "source": [
    "features = ['cast','keywords','genres']\n",
    "for feature in features:\n",
    "    metadata[feature] = metadata[feature].apply(get_list)"
   ]
  },
  {
   "cell_type": "code",
   "execution_count": 81,
   "metadata": {},
   "outputs": [
    {
     "data": {
      "text/html": [
       "<div>\n",
       "<style scoped>\n",
       "    .dataframe tbody tr th:only-of-type {\n",
       "        vertical-align: middle;\n",
       "    }\n",
       "\n",
       "    .dataframe tbody tr th {\n",
       "        vertical-align: top;\n",
       "    }\n",
       "\n",
       "    .dataframe thead th {\n",
       "        text-align: right;\n",
       "    }\n",
       "</style>\n",
       "<table border=\"1\" class=\"dataframe\">\n",
       "  <thead>\n",
       "    <tr style=\"text-align: right;\">\n",
       "      <th></th>\n",
       "      <th>title</th>\n",
       "      <th>cast</th>\n",
       "      <th>director</th>\n",
       "      <th>keywords</th>\n",
       "      <th>genres</th>\n",
       "    </tr>\n",
       "  </thead>\n",
       "  <tbody>\n",
       "    <tr>\n",
       "      <th>0</th>\n",
       "      <td>Toy Story</td>\n",
       "      <td>[Tom Hanks, Tim Allen, Don Rickles]</td>\n",
       "      <td>John Lasseter</td>\n",
       "      <td>[jealousy, toy, boy]</td>\n",
       "      <td>[Animation, Comedy, Family]</td>\n",
       "    </tr>\n",
       "    <tr>\n",
       "      <th>1</th>\n",
       "      <td>Jumanji</td>\n",
       "      <td>[Robin Williams, Jonathan Hyde, Kirsten Dunst]</td>\n",
       "      <td>Joe Johnston</td>\n",
       "      <td>[board game, disappearance, based on children'...</td>\n",
       "      <td>[Adventure, Fantasy, Family]</td>\n",
       "    </tr>\n",
       "    <tr>\n",
       "      <th>2</th>\n",
       "      <td>Grumpier Old Men</td>\n",
       "      <td>[Walter Matthau, Jack Lemmon, Ann-Margret]</td>\n",
       "      <td>Howard Deutch</td>\n",
       "      <td>[fishing, best friend, duringcreditsstinger]</td>\n",
       "      <td>[Romance, Comedy]</td>\n",
       "    </tr>\n",
       "  </tbody>\n",
       "</table>\n",
       "</div>"
      ],
      "text/plain": [
       "              title                                            cast  \\\n",
       "0         Toy Story             [Tom Hanks, Tim Allen, Don Rickles]   \n",
       "1           Jumanji  [Robin Williams, Jonathan Hyde, Kirsten Dunst]   \n",
       "2  Grumpier Old Men      [Walter Matthau, Jack Lemmon, Ann-Margret]   \n",
       "\n",
       "        director                                           keywords  \\\n",
       "0  John Lasseter                               [jealousy, toy, boy]   \n",
       "1   Joe Johnston  [board game, disappearance, based on children'...   \n",
       "2  Howard Deutch       [fishing, best friend, duringcreditsstinger]   \n",
       "\n",
       "                         genres  \n",
       "0   [Animation, Comedy, Family]  \n",
       "1  [Adventure, Fantasy, Family]  \n",
       "2             [Romance, Comedy]  "
      ]
     },
     "execution_count": 81,
     "metadata": {},
     "output_type": "execute_result"
    }
   ],
   "source": [
    "metadata[['title', 'cast', 'director', 'keywords', 'genres']].head(3)"
   ]
  },
  {
   "cell_type": "code",
   "execution_count": 82,
   "metadata": {},
   "outputs": [],
   "source": [
    "#The next step would be to convert the names and keyword \n",
    "#instances into lowercase and strip all the spaces between them."
   ]
  },
  {
   "cell_type": "code",
   "execution_count": 84,
   "metadata": {},
   "outputs": [],
   "source": [
    "# Convert string into lowercase and strip spaces\n",
    "def clean_data(x):\n",
    "    if isinstance(x,list):\n",
    "        return [str.lower(i.replace(\" \",\"\")) for i in x]\n",
    "    else:\n",
    "        if isinstance(x,str):\n",
    "            return str.lower(x.replace(\" \",\"\"))\n",
    "        else:\n",
    "            return ''"
   ]
  },
  {
   "cell_type": "code",
   "execution_count": 85,
   "metadata": {},
   "outputs": [],
   "source": [
    "# Apply clean_data function to your features.\n",
    "features = ['cast', 'keywords', 'director', 'genres']\n",
    "\n",
    "for feature in features:\n",
    "    metadata[feature] = metadata[feature].apply(clean_data)"
   ]
  },
  {
   "cell_type": "code",
   "execution_count": 86,
   "metadata": {},
   "outputs": [
    {
     "data": {
      "text/html": [
       "<div>\n",
       "<style scoped>\n",
       "    .dataframe tbody tr th:only-of-type {\n",
       "        vertical-align: middle;\n",
       "    }\n",
       "\n",
       "    .dataframe tbody tr th {\n",
       "        vertical-align: top;\n",
       "    }\n",
       "\n",
       "    .dataframe thead th {\n",
       "        text-align: right;\n",
       "    }\n",
       "</style>\n",
       "<table border=\"1\" class=\"dataframe\">\n",
       "  <thead>\n",
       "    <tr style=\"text-align: right;\">\n",
       "      <th></th>\n",
       "      <th>title</th>\n",
       "      <th>cast</th>\n",
       "      <th>director</th>\n",
       "      <th>keywords</th>\n",
       "      <th>genres</th>\n",
       "    </tr>\n",
       "  </thead>\n",
       "  <tbody>\n",
       "    <tr>\n",
       "      <th>0</th>\n",
       "      <td>Toy Story</td>\n",
       "      <td>[tomhanks, timallen, donrickles]</td>\n",
       "      <td>johnlasseter</td>\n",
       "      <td>[jealousy, toy, boy]</td>\n",
       "      <td>[animation, comedy, family]</td>\n",
       "    </tr>\n",
       "    <tr>\n",
       "      <th>1</th>\n",
       "      <td>Jumanji</td>\n",
       "      <td>[robinwilliams, jonathanhyde, kirstendunst]</td>\n",
       "      <td>joejohnston</td>\n",
       "      <td>[boardgame, disappearance, basedonchildren'sbook]</td>\n",
       "      <td>[adventure, fantasy, family]</td>\n",
       "    </tr>\n",
       "    <tr>\n",
       "      <th>2</th>\n",
       "      <td>Grumpier Old Men</td>\n",
       "      <td>[waltermatthau, jacklemmon, ann-margret]</td>\n",
       "      <td>howarddeutch</td>\n",
       "      <td>[fishing, bestfriend, duringcreditsstinger]</td>\n",
       "      <td>[romance, comedy]</td>\n",
       "    </tr>\n",
       "  </tbody>\n",
       "</table>\n",
       "</div>"
      ],
      "text/plain": [
       "              title                                         cast  \\\n",
       "0         Toy Story             [tomhanks, timallen, donrickles]   \n",
       "1           Jumanji  [robinwilliams, jonathanhyde, kirstendunst]   \n",
       "2  Grumpier Old Men     [waltermatthau, jacklemmon, ann-margret]   \n",
       "\n",
       "       director                                           keywords  \\\n",
       "0  johnlasseter                               [jealousy, toy, boy]   \n",
       "1   joejohnston  [boardgame, disappearance, basedonchildren'sbook]   \n",
       "2  howarddeutch        [fishing, bestfriend, duringcreditsstinger]   \n",
       "\n",
       "                         genres  \n",
       "0   [animation, comedy, family]  \n",
       "1  [adventure, fantasy, family]  \n",
       "2             [romance, comedy]  "
      ]
     },
     "execution_count": 86,
     "metadata": {},
     "output_type": "execute_result"
    }
   ],
   "source": [
    "metadata[['title', 'cast', 'director', 'keywords', 'genres']].head(3)"
   ]
  },
  {
   "cell_type": "code",
   "execution_count": 87,
   "metadata": {},
   "outputs": [],
   "source": [
    "# Crate soup that will join all the requied columns by space\n",
    "# The output of this function will be fed into vector model"
   ]
  },
  {
   "cell_type": "code",
   "execution_count": 88,
   "metadata": {},
   "outputs": [],
   "source": [
    "def create_soup(x):\n",
    "    return ' '.join(x['keywords']) + ' ' + ' '.join(x['cast']) + ' ' + x['director'] + ' ' + ' '.join(x['genres'])"
   ]
  },
  {
   "cell_type": "code",
   "execution_count": 89,
   "metadata": {},
   "outputs": [],
   "source": [
    "metadata['soup'] = metadata.apply(create_soup,axis=1)"
   ]
  },
  {
   "cell_type": "code",
   "execution_count": 90,
   "metadata": {},
   "outputs": [
    {
     "data": {
      "text/html": [
       "<div>\n",
       "<style scoped>\n",
       "    .dataframe tbody tr th:only-of-type {\n",
       "        vertical-align: middle;\n",
       "    }\n",
       "\n",
       "    .dataframe tbody tr th {\n",
       "        vertical-align: top;\n",
       "    }\n",
       "\n",
       "    .dataframe thead th {\n",
       "        text-align: right;\n",
       "    }\n",
       "</style>\n",
       "<table border=\"1\" class=\"dataframe\">\n",
       "  <thead>\n",
       "    <tr style=\"text-align: right;\">\n",
       "      <th></th>\n",
       "      <th>soup</th>\n",
       "    </tr>\n",
       "  </thead>\n",
       "  <tbody>\n",
       "    <tr>\n",
       "      <th>0</th>\n",
       "      <td>jealousy toy boy tomhanks timallen donrickles ...</td>\n",
       "    </tr>\n",
       "    <tr>\n",
       "      <th>1</th>\n",
       "      <td>boardgame disappearance basedonchildren'sbook ...</td>\n",
       "    </tr>\n",
       "    <tr>\n",
       "      <th>2</th>\n",
       "      <td>fishing bestfriend duringcreditsstinger walter...</td>\n",
       "    </tr>\n",
       "    <tr>\n",
       "      <th>3</th>\n",
       "      <td>basedonnovel interracialrelationship singlemot...</td>\n",
       "    </tr>\n",
       "    <tr>\n",
       "      <th>4</th>\n",
       "      <td>baby midlifecrisis confidence stevemartin dian...</td>\n",
       "    </tr>\n",
       "  </tbody>\n",
       "</table>\n",
       "</div>"
      ],
      "text/plain": [
       "                                                soup\n",
       "0  jealousy toy boy tomhanks timallen donrickles ...\n",
       "1  boardgame disappearance basedonchildren'sbook ...\n",
       "2  fishing bestfriend duringcreditsstinger walter...\n",
       "3  basedonnovel interracialrelationship singlemot...\n",
       "4  baby midlifecrisis confidence stevemartin dian..."
      ]
     },
     "execution_count": 90,
     "metadata": {},
     "output_type": "execute_result"
    }
   ],
   "source": [
    "metadata[['soup']].head()"
   ]
  },
  {
   "cell_type": "code",
   "execution_count": 92,
   "metadata": {},
   "outputs": [],
   "source": [
    "from sklearn.feature_extraction.text import CountVectorizer\n",
    "\n",
    "count = CountVectorizer(stop_words='english')\n",
    "count_matrix = count.fit_transform(metadata['soup'])"
   ]
  },
  {
   "cell_type": "code",
   "execution_count": 93,
   "metadata": {},
   "outputs": [
    {
     "data": {
      "text/plain": [
       "(46628, 73881)"
      ]
     },
     "execution_count": 93,
     "metadata": {},
     "output_type": "execute_result"
    }
   ],
   "source": [
    "count_matrix.shape"
   ]
  },
  {
   "cell_type": "code",
   "execution_count": null,
   "metadata": {},
   "outputs": [],
   "source": [
    "from sklearn.metrics.pairwise import cosine_similarity\n",
    "cosine_sim_2 = cosine_similarity(count_matrix,count_matrix)"
   ]
  },
  {
   "cell_type": "code",
   "execution_count": null,
   "metadata": {},
   "outputs": [],
   "source": [
    "# rest index\n",
    "metadata = metadatadata.reset_index()\n",
    "indicies = pd.Series(metadata.index , index=metadata['title'])\n",
    "\n",
    "get_recommendation('The Drk Knight Rises', cosine_sim_2)"
   ]
  }
 ],
 "metadata": {
  "kernelspec": {
   "display_name": "Python 3",
   "language": "python",
   "name": "python3"
  },
  "language_info": {
   "codemirror_mode": {
    "name": "ipython",
    "version": 3
   },
   "file_extension": ".py",
   "mimetype": "text/x-python",
   "name": "python",
   "nbconvert_exporter": "python",
   "pygments_lexer": "ipython3",
   "version": "3.7.3"
  }
 },
 "nbformat": 4,
 "nbformat_minor": 4
}
